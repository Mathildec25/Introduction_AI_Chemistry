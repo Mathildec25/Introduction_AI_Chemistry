{
  "cells": [
    {
      "cell_type": "markdown",
      "id": "04ecfec5-4b97-4d8f-82c5-26c5f7e63e11",
      "metadata": {
        "id": "04ecfec5-4b97-4d8f-82c5-26c5f7e63e11"
      },
      "source": [
        "\n",
        "# Introduction to AI in Chemistry\n"
      ]
    },
    {
      "cell_type": "code",
      "source": [
        "pip install rdkit"
      ],
      "metadata": {
        "id": "rKMfGfI0mvY5"
      },
      "id": "rKMfGfI0mvY5",
      "execution_count": null,
      "outputs": []
    },
    {
      "cell_type": "code",
      "source": [
        "pip install mordred"
      ],
      "metadata": {
        "id": "rQBfy8CWmJ47"
      },
      "id": "rQBfy8CWmJ47",
      "execution_count": null,
      "outputs": []
    },
    {
      "cell_type": "code",
      "execution_count": null,
      "id": "685a4b2a-0d52-4999-a1cb-95b36c17177e",
      "metadata": {
        "id": "685a4b2a-0d52-4999-a1cb-95b36c17177e"
      },
      "outputs": [],
      "source": [
        "import pandas as pd\n",
        "import numpy as np\n",
        "import matplotlib.pyplot as plt\n",
        "\n",
        "from sklearn.model_selection import train_test_split\n",
        "\n",
        "from sklearn import linear_model\n",
        "from sklearn.linear_model import LinearRegression\n",
        "from sklearn.ensemble import RandomForestRegressor\n",
        "\n",
        "from sklearn.metrics import r2_score"
      ]
    },
    {
      "cell_type": "markdown",
      "id": "e3137187-16d0-4123-832a-adac1a3a6d53",
      "metadata": {
        "id": "e3137187-16d0-4123-832a-adac1a3a6d53"
      },
      "source": [
        "\n",
        "## 1 Supervised Learning\n",
        "\n",
        "### 1.1 Charger les données"
      ]
    },
    {
      "cell_type": "code",
      "source": [
        "# URL brute du fichier CSV dans le repo GitHub\n",
        "url = \"https://raw.githubusercontent.com/Mathildec25/Introduction_AI_Chemistry/main/ROH_data.csv\"\n",
        "\n",
        "# Chargement dans un DataFrame\n",
        "data = pd.read_csv(url)\n",
        "\n",
        "# Afficher les premières lignes pour vérifier\n",
        "data.head()"
      ],
      "metadata": {
        "id": "f81RH_HaZkxb"
      },
      "id": "f81RH_HaZkxb",
      "execution_count": null,
      "outputs": []
    },
    {
      "cell_type": "markdown",
      "id": "366c795d-0b16-48d2-a55b-6a660dfa88eb",
      "metadata": {
        "id": "366c795d-0b16-48d2-a55b-6a660dfa88eb"
      },
      "source": [
        "\n",
        "### 1.2 Séparer les données en Train/Test\n"
      ]
    },
    {
      "cell_type": "code",
      "execution_count": null,
      "id": "53fabd67-c60f-47a4-9104-3c3d562ebb7c",
      "metadata": {
        "id": "53fabd67-c60f-47a4-9104-3c3d562ebb7c"
      },
      "outputs": [],
      "source": [
        "target = data['bp']\n",
        "features = data[[ 'MW', 'carbons', 'aliphatic','cyclic']]"
      ]
    },
    {
      "cell_type": "code",
      "execution_count": null,
      "id": "3804015c-60dd-46ce-8282-312e78343c3b",
      "metadata": {
        "id": "3804015c-60dd-46ce-8282-312e78343c3b"
      },
      "outputs": [],
      "source": [
        "X_train, X_test, y_train, y_test =train_test_split(features, target,\n",
        "                                                   test_size=0.2, random_state=18)"
      ]
    },
    {
      "cell_type": "markdown",
      "id": "173ca9b3-9270-4d71-b313-73cecb9a6fbf",
      "metadata": {
        "id": "173ca9b3-9270-4d71-b313-73cecb9a6fbf"
      },
      "source": [
        "\n",
        "### 1.3 Entraîner un modèle de régression linéaire\n",
        "\n",
        "Passons maintenant à un peu de *machine learning* en utilisant un modèle très simple : la **régression linéaire**.  \n",
        "Ce modèle considère la valeur cible comme une **combinaison linéaire** (ou somme pondérée) des variables explicatives, où \\(x\\) représente les variables d’entrée (*features*) et \\(w\\) les poids associés.  \n",
        "\n",
        "\n",
        "$$ cible = w_0x_0 + w_1x_1 + w_2x_2 + w_3x_3 + w_4x_4 + w_5x_5 + ... $$\n",
        "\n",
        "\n",
        "De manière générale, la procédure pour l’apprentissage supervisé — quel que soit le modèle — comporte trois étapes :\n",
        "\n",
        "1. **Créer** un modèle et l’assigner à une variable.  \n",
        "2. **Entraîner** le modèle avec les données d’apprentissage (*training data*).  \n",
        "3. **Évaluer** le modèle avec les données de test (*testing data*) ou l’utiliser pour faire des prédictions.  \n",
        "\n",
        "Pour mettre cela en œuvre, on utilise le module `linear_model` de scikit-learn.  \n",
        "On crée d’abord le modèle avec la fonction `LinearRegression()`, que l’on stocke dans la variable `reg`. Ensuite, on l’entraîne avec la méthode `fit()` en lui fournissant les données d’apprentissage définies plus haut."
      ]
    },
    {
      "cell_type": "code",
      "execution_count": null,
      "id": "45222fc6-d9c9-41be-99dd-0fbf85c84446",
      "metadata": {
        "id": "45222fc6-d9c9-41be-99dd-0fbf85c84446"
      },
      "outputs": [],
      "source": [
        "# Création du modèle Random Forest\n",
        "model = LinearRegression()"
      ]
    },
    {
      "cell_type": "code",
      "execution_count": null,
      "id": "d540728e-c619-4ab8-91c1-119710d087d2",
      "metadata": {
        "id": "d540728e-c619-4ab8-91c1-119710d087d2"
      },
      "outputs": [],
      "source": [
        "model.fit(X_train, y_train)"
      ]
    },
    {
      "cell_type": "markdown",
      "id": "9c28c2b0-9de5-473b-8826-e23638f51d14",
      "metadata": {
        "id": "9c28c2b0-9de5-473b-8826-e23638f51d14"
      },
      "source": [
        "### 1.4 Evaluation\n",
        "\n",
        "Plus la valeur de $r^2$ est proche de 1, meilleures sont les prédictions.\n"
      ]
    },
    {
      "cell_type": "markdown",
      "id": "44c5df71-51ab-4321-abb9-00873a262beb",
      "metadata": {
        "id": "44c5df71-51ab-4321-abb9-00873a262beb"
      },
      "source": [
        "Une fois le modèle entraîné, il peut être utilisé pour faire des prédictions grâce à la méthode `predict()`.\n"
      ]
    },
    {
      "cell_type": "code",
      "execution_count": null,
      "id": "dd1c1fff-054a-4ef3-a369-a3a6b92d3910",
      "metadata": {
        "id": "dd1c1fff-054a-4ef3-a369-a3a6b92d3910"
      },
      "outputs": [],
      "source": [
        "prediction = model.predict(X_test)\n",
        "prediction"
      ]
    },
    {
      "cell_type": "markdown",
      "id": "8bc75c09-5159-49df-9c37-c492c91ce22e",
      "metadata": {
        "id": "8bc75c09-5159-49df-9c37-c492c91ce22e"
      },
      "source": [
        "Rappelez-vous que l’algorithme n’a reçu que les variables explicatives du sous-ensemble de test ; il n’a jamais vu les valeurs cibles `y_test`. Les performances peuvent être évaluées en traçant les prédictions par rapport aux valeurs réelles.\n"
      ]
    },
    {
      "cell_type": "code",
      "execution_count": null,
      "id": "8472bc56-433e-40eb-a0aa-f414e8a7c8fe",
      "metadata": {
        "id": "8472bc56-433e-40eb-a0aa-f414e8a7c8fe"
      },
      "outputs": [],
      "source": [
        "plt.plot(prediction, y_test, 'o')\n",
        "plt.plot(y_test, y_test, '-', lw=1.3, alpha=0.5)\n",
        "plt.xlabel('Predicted bp, K')\n",
        "plt.ylabel('True bp, K');"
      ]
    },
    {
      "cell_type": "code",
      "source": [
        "r2 = r2_score(y_test, prediction)\n",
        "print(f\"R² : {r2:.3f}\")"
      ],
      "metadata": {
        "id": "tqxYZqC5bKrO"
      },
      "id": "tqxYZqC5bKrO",
      "execution_count": null,
      "outputs": []
    },
    {
      "cell_type": "markdown",
      "source": [
        "### 1.5 Utilisation de notre algorithme"
      ],
      "metadata": {
        "id": "FTNnvh-DRAiv"
      },
      "id": "FTNnvh-DRAiv"
    },
    {
      "cell_type": "code",
      "source": [
        "from rdkit import Chem\n",
        "from mordred import Calculator, descriptors\n",
        "import pandas as pd\n",
        "\n",
        "# Initialiser Mordred\n",
        "calc = Calculator(descriptors, ignore_3D=True)\n",
        "\n",
        "def features_mordred(smiles: str) -> pd.DataFrame:\n",
        "    mol = Chem.MolFromSmiles(smiles)\n",
        "    df = calc.pandas([mol])\n",
        "\n",
        "    # Sélection des colonnes utiles\n",
        "    MW = float(df[\"MW\"][0])\n",
        "    carbons = int(df[\"nC\"][0])\n",
        "    cyclic = int(df[\"nRing\"][0])\n",
        "    arom_atoms = int(df[\"nAromAtom\"][0]) if not pd.isna(df[\"nAromAtom\"][0]) else 0\n",
        "\n",
        "    # Aliphatic carbons\n",
        "    aliphatic = carbons - arom_atoms\n",
        "\n",
        "    # Construire DataFrame final\n",
        "    features = pd.DataFrame([{\n",
        "        \"MW\": MW,\n",
        "        \"carbons\": carbons,\n",
        "        \"aliphatic\": aliphatic,\n",
        "        \"cyclic\": cyclic\n",
        "    }])\n",
        "\n",
        "    return features\n",
        "\n"
      ],
      "metadata": {
        "id": "MZxQCGk1drZa"
      },
      "id": "MZxQCGk1drZa",
      "execution_count": null,
      "outputs": []
    },
    {
      "cell_type": "code",
      "source": [],
      "metadata": {
        "id": "jTtevSQRRE4Q"
      },
      "id": "jTtevSQRRE4Q",
      "execution_count": null,
      "outputs": []
    },
    {
      "cell_type": "markdown",
      "source": [
        "![image (2).png](data:image/png;base64,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)"
      ],
      "metadata": {
        "id": "TvAP6fiQRG_D"
      },
      "id": "TvAP6fiQRG_D"
    },
    {
      "cell_type": "code",
      "source": [
        "# Exemple\n",
        "smiles = \"C1C(CCCC1)(N(O)C2=CC=CC=C2)C(=O)OC\"\n",
        "X_df = features_mordred(smiles)\n",
        "print(X_df)"
      ],
      "metadata": {
        "id": "R7zIVzMXRDLB"
      },
      "id": "R7zIVzMXRDLB",
      "execution_count": null,
      "outputs": []
    },
    {
      "cell_type": "code",
      "source": [
        "# Prédiction\n",
        "pred_bp = model.predict(X_df)[0]\n",
        "print(f\"Point d’ébullition prédit : {pred_bp:.2f} °K\")"
      ],
      "metadata": {
        "id": "TVSaWReIO6rC"
      },
      "id": "TVSaWReIO6rC",
      "execution_count": null,
      "outputs": []
    },
    {
      "cell_type": "code",
      "source": [
        "# Conversion en °C\n",
        "pred_bp_C = pred_bp - 273.15\n",
        "\n",
        "print(f\"Point d’ébullition prédit : {pred_bp_C:.2f} °C\")"
      ],
      "metadata": {
        "id": "-GeoRlsMPEN9"
      },
      "id": "-GeoRlsMPEN9",
      "execution_count": null,
      "outputs": []
    },
    {
      "cell_type": "code",
      "source": [],
      "metadata": {
        "id": "V7BZQ975mxA5"
      },
      "id": "V7BZQ975mxA5",
      "execution_count": null,
      "outputs": []
    }
  ],
  "metadata": {
    "kernelspec": {
      "display_name": "base",
      "language": "python",
      "name": "python3"
    },
    "language_info": {
      "codemirror_mode": {
        "name": "ipython",
        "version": 3
      },
      "file_extension": ".py",
      "mimetype": "text/x-python",
      "name": "python",
      "nbconvert_exporter": "python",
      "pygments_lexer": "ipython3",
      "version": "3.12.7"
    },
    "colab": {
      "provenance": []
    }
  },
  "nbformat": 4,
  "nbformat_minor": 5
}